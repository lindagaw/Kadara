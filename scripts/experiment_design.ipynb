{
 "cells": [
  {
   "cell_type": "code",
   "execution_count": 2,
   "metadata": {},
   "outputs": [],
   "source": [
    "from train_digits import ComparisonConfig"
   ]
  },
  {
   "cell_type": "code",
   "execution_count": 9,
   "metadata": {},
   "outputs": [
    {
     "name": "stdout",
     "output_type": "stream",
     "text": [
      "python3 train_digits.py --adv --source svhn --target synth --epochs 10\n",
      "python3 train_digits.py --adv --source svhn --target mnist --epochs 10\n",
      "python3 train_digits.py --adv --source synth --target svhn --epochs 10\n",
      "python3 train_digits.py --vada --source svhn --target synth --epochs 10\n",
      "python3 train_digits.py --vada --source svhn --target mnist --epochs 10\n",
      "python3 train_digits.py --vada --source synth --target svhn --epochs 10\n",
      "python3 train_digits.py --dann --source svhn --target synth --epochs 10\n",
      "python3 train_digits.py --dann --source svhn --target mnist --epochs 10\n",
      "python3 train_digits.py --dann --source synth --target svhn --epochs 10\n",
      "python3 train_digits.py --assoc --source svhn --target synth --epochs 10\n",
      "python3 train_digits.py --assoc --source svhn --target mnist --epochs 10\n",
      "python3 train_digits.py --assoc --source synth --target svhn --epochs 10\n",
      "python3 train_digits.py --coral --source svhn --target synth --epochs 10\n",
      "python3 train_digits.py --coral --source svhn --target mnist --epochs 10\n",
      "python3 train_digits.py --coral --source synth --target svhn --epochs 10\n",
      "python3 train_digits.py --teach --source svhn --target synth --epochs 10\n",
      "python3 train_digits.py --teach --source svhn --target mnist --epochs 10\n",
      "python3 train_digits.py --teach --source synth --target svhn --epochs 10\n"
     ]
    }
   ],
   "source": [
    "def print_experiments():\n",
    "    import itertools\n",
    "\n",
    "    datasets = [['svhn', 'synth'], ['svhn', 'mnist'], ['synth', 'svhn']]\n",
    "    algos = ComparisonConfig._algorithms\n",
    "\n",
    "    s = []\n",
    "\n",
    "    for algo, (source, target) in itertools.product(algos, datasets):\n",
    "\n",
    "        if source == target:\n",
    "            continue\n",
    "\n",
    "        print('python3 {} --{} --source {} --target {} {}'.format(\n",
    "            'train_digits.py',\n",
    "            algo,\n",
    "            source,\n",
    "            target,\n",
    "            '--epochs 10'\n",
    "        ))\n",
    "        # jobs-new-1...3\n",
    "print_experiments()"
   ]
  },
  {
   "cell_type": "code",
   "execution_count": 4,
   "metadata": {},
   "outputs": [
    {
     "name": "stdout",
     "output_type": "stream",
     "text": [
      "python3 train_digits.py --adv --source mnist --target usps --epochs 10\n",
      "python3 train_digits.py --vada --source mnist --target usps --epochs 10\n",
      "python3 train_digits.py --dann --source mnist --target usps --epochs 10\n",
      "python3 train_digits.py --assoc --source mnist --target usps --epochs 10\n",
      "python3 train_digits.py --coral --source mnist --target usps --epochs 10\n",
      "python3 train_digits.py --teach --source mnist --target usps --epochs 10\n"
     ]
    }
   ],
   "source": [
    "def print_experiments():\n",
    "    import itertools\n",
    "\n",
    "    datasets = [['mnist', 'usps']]\n",
    "    algos = ComparisonConfig._algorithms\n",
    "\n",
    "    s = []\n",
    "\n",
    "    for algo, (source, target) in itertools.product(algos, datasets):\n",
    "\n",
    "        if source == target:\n",
    "            continue\n",
    "\n",
    "        print('python3 {} --{} --source {} --target {} {}'.format(\n",
    "            'train_digits.py',\n",
    "            algo,\n",
    "            source,\n",
    "            target,\n",
    "            '--epochs 10' # --sourcebatch 400 --targetbatch 400'\n",
    "        ))\n",
    "        \n",
    "print_experiments()"
   ]
  }
 ],
 "metadata": {
  "kernelspec": {
   "display_name": "Python 3",
   "language": "python",
   "name": "python3"
  },
  "language_info": {
   "codemirror_mode": {
    "name": "ipython",
    "version": 3
   },
   "file_extension": ".py",
   "mimetype": "text/x-python",
   "name": "python",
   "nbconvert_exporter": "python",
   "pygments_lexer": "ipython3",
   "version": "3.6.3"
  }
 },
 "nbformat": 4,
 "nbformat_minor": 2
}
