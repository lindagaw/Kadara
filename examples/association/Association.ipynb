{
 "cells": [
  {
   "cell_type": "code",
   "execution_count": 16,
   "metadata": {},
   "outputs": [],
   "source": [
    "from salad import layer\n",
    "from salad.layer import AssociationMatrix\n",
    "\n",
    "import torch\n",
    "import torch.nn.functional as F\n",
    "\n",
    "def Association(xs,xt):   \n",
    "    Bs = xs.size()[0]\n",
    "    Bt = xt.size()[0]\n",
    "\n",
    "    xs = xs.clone().view(Bs, -1)\n",
    "    xt = xt.clone().view(Bt, -1)\n",
    "\n",
    "    W = torch.mm(xs, xt.transpose(1,0))\n",
    "\n",
    "    # p(xt | xs) as softmax, normalize over xt axis\n",
    "    Pst = F.softmax(W, dim=1) # Ns x Nt\n",
    "    # p(xs | xt) as softmax, normalize over xs axis\n",
    "    Pts = F.softmax(W.transpose(1,0), dim=1) # Nt x Ns\n",
    "\n",
    "    # p(xs | xs)\n",
    "    Psts = Pst.mm(Pts) # Ns x Ns\n",
    "\n",
    "    # p(xt)\n",
    "    Pt = torch.mean(Pst, dim=0, keepdim=True) # Nt\n",
    "    \n",
    "    return Pst, Pts, Psts, Pt"
   ]
  },
  {
   "cell_type": "code",
   "execution_count": 14,
   "metadata": {},
   "outputs": [],
   "source": [
    "import matplotlib.pyplot as plt\n",
    "%matplotlib inline"
   ]
  },
  {
   "cell_type": "code",
   "execution_count": 97,
   "metadata": {},
   "outputs": [
    {
     "data": {
      "text/plain": [
       "tensor(1.00000e-05 *\n",
       "       [[ 3.4099,  1.5310,  3.2248,  0.1439,  4.1277],\n",
       "        [ 9.1670,  9.2356,  1.8516,  9.3348,  5.9303],\n",
       "        [ 8.3784,  7.8997,  6.3170,  6.5713,  5.4260],\n",
       "        [ 0.3169,  1.8238,  1.7772,  0.1148,  9.5051],\n",
       "        [ 1.2791,  9.6400,  6.3059,  2.3435,  6.4280],\n",
       "        [ 8.0758,  2.2007,  0.1667,  0.5070,  4.3399],\n",
       "        [ 1.3377,  4.2586,  4.4073,  9.9805,  1.2562],\n",
       "        [ 5.9302,  7.7223,  3.1946,  4.1958,  5.7087],\n",
       "        [ 5.2582,  6.4900,  3.6123,  1.9659,  1.9287],\n",
       "        [ 3.8871,  9.1174,  9.5976,  6.8534,  8.1567]])"
      ]
     },
     "execution_count": 97,
     "metadata": {},
     "output_type": "execute_result"
    }
   ],
   "source": [
    "x = torch.rand(10,5)\n",
    "p = torch.nn.Parameter(x).detach()\n",
    "\n",
    "p.set_(torch.nn.Parameter(x*.0001))"
   ]
  },
  {
   "cell_type": "code",
   "execution_count": 70,
   "metadata": {},
   "outputs": [],
   "source": [
    "from sklearn.datasets import load_digits\n",
    "import numpy as np\n",
    "\n",
    "data = load_digits()\n",
    "\n",
    "def get_batch(data):\n",
    "    \n",
    "    y   = data['target']\n",
    "    X   = data['data'][y < 3]\n",
    "    y   = y[y < 3]\n",
    "    \n",
    "    idc = np.arange(len(X))\n",
    "    np.random.shuffle(idc)\n",
    "    \n",
    "    idc = np.argsort(y)\n",
    "    X = X[idc][::10]\n",
    "    y = y[idc][::10]\n",
    "\n",
    "    return X, y\n",
    "\n",
    "X, y   = get_batch(data)\n",
    "X_, y_ = get_batch(data)"
   ]
  },
  {
   "cell_type": "code",
   "execution_count": 71,
   "metadata": {},
   "outputs": [
    {
     "data": {
      "text/plain": [
       "<matplotlib.image.AxesImage at 0x7feb0a14e320>"
      ]
     },
     "execution_count": 71,
     "metadata": {},
     "output_type": "execute_result"
    },
    {
     "data": {
      "image/png": "[encoded data removed]",
      "text/plain": [
       "<Figure size 432x288 with 1 Axes>"
      ]
     },
     "metadata": {},
     "output_type": "display_data"
    }
   ],
   "source": [
    "plt.imshow(np.equal(y[:,np.newaxis], y[np.newaxis,:]))"
   ]
  },
  {
   "cell_type": "code",
   "execution_count": 78,
   "metadata": {},
   "outputs": [
    {
     "data": {
      "image/png": "[encoded data removed]",
      "text/plain": [
       "<Figure size 1440x576 with 3 Axes>"
      ]
     },
     "metadata": {},
     "output_type": "display_data"
    }
   ],
   "source": [
    "xs = torch.from_numpy(X)\n",
    "xt = torch.from_numpy(X_)\n",
    "\n",
    "mats = Association(xs, xt)[:3]\n",
    "\n",
    "fig, axes = plt.subplots(1,3,figsize=(20,8))\n",
    "\n",
    "for ax, M in zip(axes, mats):\n",
    "    \n",
    "    ax.imshow(M, cmap='coolwarm')\n",
    "    #ax.axis('off')\n",
    "    #ax.imshow(np.equal(y[:,np.newaxis], y[np.newaxis,:]), alpha=.5, cmap='gray')"
   ]
  }
 ],
 "metadata": {
  "kernelspec": {
   "display_name": "Python 3",
   "language": "python",
   "name": "python3"
  },
  "language_info": {
   "codemirror_mode": {
    "name": "ipython",
    "version": 3
   },
   "file_extension": ".py",
   "mimetype": "text/x-python",
   "name": "python",
   "nbconvert_exporter": "python",
   "pygments_lexer": "ipython3",
   "version": "3.6.3"
  }
 },
 "nbformat": 4,
 "nbformat_minor": 2
}
