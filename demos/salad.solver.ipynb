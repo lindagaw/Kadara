{
 "cells": [
  {
   "cell_type": "markdown",
   "metadata": {},
   "source": [
    "# salad.solver Demo\n",
    "\n",
    "In this tutorial we will step through the use of solvers within the ``salad`` package.\n",
    "Solvers are located in the ``salad.solver`` package and form a hierarchy for different application purposes.\n",
    "All solvers are subclasses of ``salad.solver.Solver``, which contains the basic training mechanisms, functions for logging etc."
   ]
  },
  {
   "cell_type": "code",
   "execution_count": 1,
   "metadata": {},
   "outputs": [],
   "source": [
    "import numpy\n",
    "import torch\n",
    "from torch import nn\n",
    "import matplotlib.pyplot as plt\n",
    "\n",
    "%matplotlib inline\n",
    "%config InlineBackend.figure_format = 'svg'"
   ]
  },
  {
   "cell_type": "markdown",
   "metadata": {},
   "source": [
    "The core idea behind solver classes is to provide a clear abstraction between parts that are redundant between deep learning and domain adaptation experiments (such as training loop, logging, checkpointing etc.) from the actual algorithmic contribution of a paper.\n",
    "\n",
    "By building a hierarchy of solvers, it is also possible to reuse features of base class solvers.\n",
    "In the following, we will quickly show the main ideas with a simple example."
   ]
  },
  {
   "cell_type": "code",
   "execution_count": 2,
   "metadata": {},
   "outputs": [],
   "source": [
    "from salad.solver import Solver"
   ]
  },
  {
   "cell_type": "markdown",
   "metadata": {},
   "source": [
    "We will first create a simple model and toy dataset"
   ]
  },
  {
   "cell_type": "code",
   "execution_count": 10,
   "metadata": {},
   "outputs": [],
   "source": [
    "from torch import nn\n",
    "\n",
    "class SmallModel(nn.Module):\n",
    "    \"\"\" Model for Toy Dataset\n",
    "    \"\"\"\n",
    "\n",
    "    def __init__(self, track_stats = True):\n",
    "        \n",
    "        super().__init__()\n",
    "        \n",
    "        self.features = nn.Sequential(\n",
    "            nn.Linear(2, 64),\n",
    "            nn.BatchNorm1d(64, track_running_stats = track_stats),\n",
    "            nn.ReLU(),\n",
    "            nn.Dropout(p=0.5),\n",
    "            nn.Linear(64,64),\n",
    "            nn.BatchNorm1d(64, track_running_stats = track_stats),\n",
    "            nn.ReLU()\n",
    "        )\n",
    "        self.classifier = nn.Linear(64, 2)\n",
    "        self._weight_init()\n",
    "        \n",
    "    def parameters(self, d = 0):\n",
    "        return super().parameters()\n",
    "        \n",
    "    def _weight_init(self):\n",
    "        for m in self.modules():\n",
    "            if isinstance(m, nn.Linear):\n",
    "                nn.init.xavier_normal_(m.weight)\n",
    "        \n",
    "    def forward(self, x, d = None):\n",
    "        \n",
    "        z = self.features(x)\n",
    "        y = self.classifier(z)\n",
    "        \n",
    "        return z, y"
   ]
  },
  {
   "cell_type": "code",
   "execution_count": 9,
   "metadata": {},
   "outputs": [
    {
     "ename": "TypeError",
     "evalue": "__init__() missing 2 required positional arguments: 'model' and 'dataset'",
     "output_type": "error",
     "traceback": [
      "\u001b[0;31m---------------------------------------------------------------------------\u001b[0m",
      "\u001b[0;31mTypeError\u001b[0m                                 Traceback (most recent call last)",
      "\u001b[0;32m<ipython-input-9-221f98abb0ea>\u001b[0m in \u001b[0;36m<module>\u001b[0;34m()\u001b[0m\n\u001b[1;32m     11\u001b[0m         \u001b[0mget_ipython\u001b[0m\u001b[0;34m(\u001b[0m\u001b[0;34m)\u001b[0m\u001b[0;34m.\u001b[0m\u001b[0mrun_line_magic\u001b[0m\u001b[0;34m(\u001b[0m\u001b[0;34m'pinfo'\u001b[0m\u001b[0;34m,\u001b[0m \u001b[0;34m'self.register_model'\u001b[0m\u001b[0;34m)\u001b[0m\u001b[0;34m\u001b[0m\u001b[0m\n\u001b[1;32m     12\u001b[0m \u001b[0;34m\u001b[0m\u001b[0m\n\u001b[0;32m---> 13\u001b[0;31m \u001b[0msolver\u001b[0m \u001b[0;34m=\u001b[0m \u001b[0mMySolver\u001b[0m\u001b[0;34m(\u001b[0m\u001b[0;34m)\u001b[0m\u001b[0;34m\u001b[0m\u001b[0m\n\u001b[0m",
      "\u001b[0;31mTypeError\u001b[0m: __init__() missing 2 required positional arguments: 'model' and 'dataset'"
     ]
    }
   ],
   "source": [
    "class MySolver(Solver):\n",
    "    \n",
    "    def __init__(self, model, dataset, *args, **kwargs):\n",
    "        self.model = model\n",
    "        \n",
    "        super().__init__(model, dataset, *args, **kwargs)\n",
    "        \n",
    "    def _init_models(self, **kwargs):\n",
    "        super._init_models(**kwargs)\n",
    "        \n",
    "        self.register_model?\n",
    "        \n",
    "solver = MySolver()"
   ]
  }
 ],
 "metadata": {
  "kernelspec": {
   "display_name": "conda",
   "language": "python",
   "name": "conda"
  },
  "language_info": {
   "codemirror_mode": {
    "name": "ipython",
    "version": 3
   },
   "file_extension": ".py",
   "mimetype": "text/x-python",
   "name": "python",
   "nbconvert_exporter": "python",
   "pygments_lexer": "ipython3",
   "version": "3.6.5"
  }
 },
 "nbformat": 4,
 "nbformat_minor": 2
}
